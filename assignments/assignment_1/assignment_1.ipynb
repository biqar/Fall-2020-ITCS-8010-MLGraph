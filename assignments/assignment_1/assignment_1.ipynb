{
 "cells": [
  {
   "cell_type": "markdown",
   "metadata": {},
   "source": [
    "$\\newcommand{\\xv}{\\mathbf{x}}\n",
    " \\newcommand{\\wv}{\\mathbf{w}}\n",
    " \\newcommand{\\yv}{\\mathbf{y}}\n",
    " \\newcommand{\\zv}{\\mathbf{z}}\n",
    " \\newcommand{\\uv}{\\mathbf{u}}\n",
    " \\newcommand{\\vv}{\\mathbf{v}}\n",
    " \\newcommand{\\Chi}{\\mathcal{X}}\n",
    " \\newcommand{\\R}{\\rm I\\!R}\n",
    " \\newcommand{\\sign}{\\text{sign}}\n",
    " \\newcommand{\\Tm}{\\mathbf{T}}\n",
    " \\newcommand{\\Xm}{\\mathbf{X}}\n",
    " \\newcommand{\\Zm}{\\mathbf{Z}}\n",
    " \\newcommand{\\I}{\\mathbf{I}}\n",
    " \\newcommand{\\Um}{\\mathbf{U}}\n",
    " \\newcommand{\\Vm}{\\mathbf{V}} \n",
    " \\newcommand{\\muv}{\\boldsymbol\\mu}\n",
    " \\newcommand{\\Sigmav}{\\boldsymbol\\Sigma}\n",
    " \\newcommand{\\Lambdav}{\\boldsymbol\\Lambda}\n",
    " \\newcommand\\numberthis{\\addtocounter{equation}{1}\\tag{\\theequation}}\n",
    "$\n",
    "\n",
    "### ITCS 8010: Machine Learning with Graphs and Large Networks (Fall 2020)\n",
    "\n",
    "# Problem Set 1\n",
    "<font color=\"blue\"> Abdullah Al Raqibul Islam </font>\n",
    "\n",
    "The purpose of these exercises is getting used to with the network analysis and the `NetworkX` software [[3]](https://networkx.github.io/documentation/stable/). For this homework, I installed the `NetworkX` network analysis package. The details about the installation of `NetworkX` can be found in [[4]](https://networkx.github.io/documentation/stable/install.html).\n",
    "\n",
    "Here is the software packages I used in this assignment:\n",
    "* Python 3.7.6\n",
    "* NetworkX 2.5\n",
    "* Numpy\n",
    "* Matplotlib"
   ]
  },
  {
   "cell_type": "markdown",
   "metadata": {},
   "source": [
    "## 1. Analyzing the Wikipedia voters network [9 points]\n",
    "\n",
    "Wikipedia is a `directed network`. Formally, we consider the Wikipedia network as a directed graph $G = (V, E)$, with node set $V$ and edge set $E ⊂ V × V$ where (edges are ordered pairs of nodes). An edge $(a, b) ∈ E$ means that user $a$ voted on user $b$. Here is the basic properties of the Wiki-Vote graph:\n",
    "\n",
    "* Directed graph (each unordered pair of nodes is saved once)\n",
    "* Wikipedia voting on promotion to administratorship (till January 2008). Directed edge A->B means user A voted on B becoming Wikipedia administrator.\n",
    "* Number of Nodes: 7115\n",
    "* Number of Edges: 103689"
   ]
  },
  {
   "cell_type": "code",
   "execution_count": 1,
   "metadata": {},
   "outputs": [],
   "source": [
    "import networkx as nx\n",
    "import numpy as np\n",
    "import matplotlib.pyplot as plt\n",
    "import collections as collec\n",
    "%matplotlib inline"
   ]
  },
  {
   "cell_type": "markdown",
   "metadata": {},
   "source": [
    "Reading `Wiki-Vote` graph."
   ]
  },
  {
   "cell_type": "code",
   "execution_count": 2,
   "metadata": {},
   "outputs": [],
   "source": [
    "G_wiki = nx.read_edgelist(\"data/Wiki-Vote.txt\", nodetype=int, comments='#', create_using=nx.DiGraph)"
   ]
  },
  {
   "cell_type": "markdown",
   "metadata": {},
   "source": [
    "1. The number of nodes in the network"
   ]
  },
  {
   "cell_type": "code",
   "execution_count": 3,
   "metadata": {},
   "outputs": [
    {
     "data": {
      "text/plain": [
       "7115"
      ]
     },
     "execution_count": 3,
     "metadata": {},
     "output_type": "execute_result"
    }
   ],
   "source": [
    "nx.number_of_nodes(G_wiki)"
   ]
  },
  {
   "cell_type": "markdown",
   "metadata": {},
   "source": [
    "2. The number of nodes with a self-edge (self-loop), i.e., the number of nodes a ∈ V where (a, a) ∈ E."
   ]
  },
  {
   "cell_type": "code",
   "execution_count": 4,
   "metadata": {},
   "outputs": [
    {
     "data": {
      "text/plain": [
       "0"
      ]
     },
     "execution_count": 4,
     "metadata": {},
     "output_type": "execute_result"
    }
   ],
   "source": [
    "len(list(nx.nodes_with_selfloops(G_wiki)))"
   ]
  },
  {
   "cell_type": "markdown",
   "metadata": {},
   "source": [
    "3. The number of directed edges in the network, i.e., the number of ordered pairs (a,b) ∈ E for which a!=b."
   ]
  },
  {
   "cell_type": "code",
   "execution_count": 5,
   "metadata": {},
   "outputs": [
    {
     "name": "stdout",
     "output_type": "stream",
     "text": [
      "103689\n"
     ]
    }
   ],
   "source": [
    "num_edges = nx.number_of_edges(G_wiki)\n",
    "self_loops = len(list(nx.nodes_with_selfloops(G_wiki)))\n",
    "num_dir_edges = num_edges - self_loops\n",
    "print(num_dir_edges)"
   ]
  },
  {
   "cell_type": "markdown",
   "metadata": {},
   "source": [
    "4. The number of undirected edges in the network, i.e., the number of unique unordered pairs (a,b), a!=b, for which (a,b) ∈ E or (b, a) ∈ E (or both). If both (a, b) and (b, a) are edges, this counts a single undirected edge."
   ]
  },
  {
   "cell_type": "code",
   "execution_count": 6,
   "metadata": {},
   "outputs": [
    {
     "name": "stdout",
     "output_type": "stream",
     "text": [
      "100762\n"
     ]
    }
   ],
   "source": [
    "num_edges = nx.number_of_edges(G_wiki)\n",
    "num_edges_undir = nx.number_of_edges(G_wiki.to_undirected(True))\n",
    "\n",
    "num_edges_recip = num_edges - num_edges_undir\n",
    "print(num_edges_recip)"
   ]
  },
  {
   "cell_type": "markdown",
   "metadata": {},
   "source": [
    "5. The number of reciprocated edges in the network, i.e., the number of unique unordered pairs of nodes (a,b), a!=b, for which (a,b) ∈ E and (b,a) ∈ E."
   ]
  },
  {
   "cell_type": "code",
   "execution_count": 7,
   "metadata": {},
   "outputs": [
    {
     "data": {
      "text/plain": [
       "2927"
      ]
     },
     "execution_count": 7,
     "metadata": {},
     "output_type": "execute_result"
    }
   ],
   "source": [
    "nx.number_of_edges(G_wiki.to_undirected(True))\n",
    "#G_wiki.to_undirected(True).size()"
   ]
  },
  {
   "cell_type": "code",
   "execution_count": 8,
   "metadata": {},
   "outputs": [
    {
     "data": {
      "text/plain": [
       "0.0564572905515532"
      ]
     },
     "execution_count": 8,
     "metadata": {},
     "output_type": "execute_result"
    }
   ],
   "source": [
    "nx.reciprocity(G_wiki)\n",
    "#nx.overall_reciprocity(G_wiki)"
   ]
  },
  {
   "cell_type": "markdown",
   "metadata": {},
   "source": [
    "6. The number of nodes of zero out-degree."
   ]
  },
  {
   "cell_type": "code",
   "execution_count": 9,
   "metadata": {},
   "outputs": [
    {
     "name": "stdout",
     "output_type": "stream",
     "text": [
      "The number of nodes of zero out-degree: 1005\n"
     ]
    }
   ],
   "source": [
    "val = len([d for n, d in G_wiki.out_degree() if d == 0])\n",
    "print(\"The number of nodes of zero out-degree:\", val)"
   ]
  },
  {
   "cell_type": "markdown",
   "metadata": {},
   "source": [
    "7. The number of nodes of zero in-degree."
   ]
  },
  {
   "cell_type": "code",
   "execution_count": 10,
   "metadata": {},
   "outputs": [
    {
     "name": "stdout",
     "output_type": "stream",
     "text": [
      "The number of nodes of zero in-degree: 4734\n"
     ]
    }
   ],
   "source": [
    "val = len([d for n, d in G_wiki.in_degree() if d == 0])\n",
    "print(\"The number of nodes of zero in-degree:\", val)"
   ]
  },
  {
   "cell_type": "markdown",
   "metadata": {},
   "source": [
    "8. The number of nodes with more than 10 outgoing edges(out-degree > 10)."
   ]
  },
  {
   "cell_type": "code",
   "execution_count": 11,
   "metadata": {},
   "outputs": [
    {
     "name": "stdout",
     "output_type": "stream",
     "text": [
      "The number of nodes with more than 10 outgoing edges: 1612\n"
     ]
    }
   ],
   "source": [
    "val = len([d for n, d in G_wiki.out_degree() if d > 10])\n",
    "print(\"The number of nodes with more than 10 outgoing edges:\", val)"
   ]
  },
  {
   "cell_type": "markdown",
   "metadata": {},
   "source": [
    "9. The number of nodes with fewer than 10 incoming edges(in-degree < 10)."
   ]
  },
  {
   "cell_type": "code",
   "execution_count": 12,
   "metadata": {},
   "outputs": [
    {
     "name": "stdout",
     "output_type": "stream",
     "text": [
      "The number of nodes with fewer than 10 incoming edges: 5165\n"
     ]
    }
   ],
   "source": [
    "val = len([d for n, d in G_wiki.in_degree() if d < 10])\n",
    "print(\"The number of nodes with fewer than 10 incoming edges:\", val)"
   ]
  },
  {
   "cell_type": "markdown",
   "metadata": {
    "scrolled": true
   },
   "source": [
    "## 2. Further Analyzing the Wikipedia voters network [6 points]\n",
    "\n",
    "For this problem, we use the Wikipedia voters network.\n",
    "\n",
    "1. Plot the distribution of out-degrees of nodes in the network on a log-log scale. Each data point is a pair (x,y) where x is a positive integer and y is the number of nodes in the network with out- degree equal to x. Restrict the range of x between the minimum and maximum out-degrees. You may filter out data points with a 0 entry. For the log-log scale, use base 10 for both x and y axes.\n",
    "\n",
    "For this problem, I plotted both in- and out-degree distributuion in the following scales:\n",
    "1. Log-Log Scale\n",
    "2. Normal Scale"
   ]
  },
  {
   "cell_type": "code",
   "execution_count": 13,
   "metadata": {},
   "outputs": [
    {
     "data": {
      "image/png": "[encoded data removed]",
      "text/plain": [
       "<Figure size 864x576 with 1 Axes>"
      ]
     },
     "metadata": {
      "needs_background": "light"
     },
     "output_type": "display_data"
    },
    {
     "data": {
      "image/png": "[encoded data removed]",
      "text/plain": [
       "<Figure size 864x576 with 1 Axes>"
      ]
     },
     "metadata": {
      "needs_background": "light"
     },
     "output_type": "display_data"
    }
   ],
   "source": [
    "# Calculate in degrees of a directed graph\n",
    "in_degrees = G_wiki.in_degree() # dictionary node:degree\n",
    "in_values = sorted([d for n, d in in_degrees])\n",
    "in_hist = [in_values.count(x) for x in in_values]\n",
    "\n",
    "# Calculate out degrees of a directed graph\n",
    "out_degrees = G_wiki.out_degree() # dictionary node:degree\n",
    "out_values = sorted([d for n, d in out_degrees])\n",
    "out_hist = [out_values.count(x) for x in out_values]\n",
    "\n",
    "# log-log ploting the degree distribution\n",
    "plt.figure(figsize=(12, 8))\n",
    "plt.grid(True)\n",
    "plt.loglog(in_values, in_hist, 'ro-') # in-degree\n",
    "plt.loglog(out_values, out_hist, 'bv-') # out-degree\n",
    "plt.legend(['In-degree', 'Out-degree'])\n",
    "plt.xlabel('Degree')\n",
    "plt.ylabel('Number of nodes')\n",
    "plt.title('Degree distribution (Log-Log) of Wikipedia-Voters network')\n",
    "plt.show()\n",
    "\n",
    "# regular ploting the degree distribution\n",
    "plt.figure(figsize=(12, 8))\n",
    "plt.grid(True)\n",
    "plt.plot(in_values, in_hist, 'ro-') # in-degree\n",
    "plt.plot(out_values, out_hist, 'bv-') # out-degree\n",
    "plt.legend(['In-degree', 'Out-degree'])\n",
    "plt.xlabel('Degree')\n",
    "plt.ylabel('Number of nodes')\n",
    "plt.title('Degree distribution of Wikipedia-Voters network')\n",
    "plt.show()"
   ]
  },
  {
   "cell_type": "markdown",
   "metadata": {},
   "source": [
    "## 3. Finding Experts on the Java Programming Language on StackOverflow [5 points]\n",
    "\n",
    "Download the StackOverflow network [stackoverflow-Java.txt.gz](http://snap.stanford.edu/class/cs224w-data/hw0/stackoverflow-Java.txt.gz). An edge $(a,b)$ in the network means that person $a$ endorsed an answer from person $b$ on a Java-related question.\n",
    "\n",
    "Using NetworkX [[3]]() I first load the StackOverflow network and done the following computation:\n",
    "1. The number of weakly connected components in the network. This value can be calculated in NetworkX via function weakly_connected_components.\n",
    "2. The number of edges and the number of nodes in the largest weakly connected component. The largest weakly connected component is calculated via function call in NetworkX\n",
    "\n",
    "Note that StackOverflow is a `directed network`."
   ]
  },
  {
   "cell_type": "code",
   "execution_count": 14,
   "metadata": {},
   "outputs": [
    {
     "data": {
      "text/plain": [
       "146874"
      ]
     },
     "execution_count": 14,
     "metadata": {},
     "output_type": "execute_result"
    }
   ],
   "source": [
    "G_stack = nx.read_edgelist(\"data/stackoverflow-Java.txt\", nodetype=int, comments='#', create_using=nx.DiGraph)\n",
    "\n",
    "nx.number_of_nodes(G_stack)"
   ]
  },
  {
   "cell_type": "markdown",
   "metadata": {},
   "source": [
    "1. The number of weakly connected components in the network. This value can be calculated in NetworkX via function `weakly_connected_components`."
   ]
  },
  {
   "cell_type": "code",
   "execution_count": 15,
   "metadata": {},
   "outputs": [
    {
     "data": {
      "text/plain": [
       "10143"
      ]
     },
     "execution_count": 15,
     "metadata": {},
     "output_type": "execute_result"
    }
   ],
   "source": [
    "nx.number_weakly_connected_components(G_stack)"
   ]
  },
  {
   "cell_type": "markdown",
   "metadata": {},
   "source": [
    "2. The number of edges and the number of nodes in the largest weakly connected component. The largest weakly connected component is calculated via function call in NetworkX"
   ]
  },
  {
   "cell_type": "code",
   "execution_count": 16,
   "metadata": {},
   "outputs": [
    {
     "name": "stdout",
     "output_type": "stream",
     "text": [
      "number of nodes in the largest weakly connected component: 131188\n",
      "number of edges in the largest weakly connected component: 322486\n"
     ]
    }
   ],
   "source": [
    "largest_cc = max(nx.weakly_connected_components(G_stack), key=len)\n",
    "#print(len(largest_cc))\n",
    "sub = G_stack.subgraph(largest_cc)\n",
    "\n",
    "print('number of nodes in the largest weakly connected component: ' + str(nx.number_of_nodes(sub)))\n",
    "print('number of edges in the largest weakly connected component: ' + str(nx.number_of_edges(sub)))"
   ]
  },
  {
   "cell_type": "markdown",
   "metadata": {},
   "source": [
    "## 4. Network Characteristics [40 points]:\n",
    "\n",
    "One of the goals of network analysis is to find mathematical models that characterize real-world networks and that can then be used to generate new networks with similar properties. In this problem, we will explore two famous models—Erdos-Renyi [[1]]() and Small World [[2]]()—and compare them to real-world data from an academic collaboration network. Note that in this problem all networks are `undirected`.\n",
    "\n",
    "To solve this problem, I introduce a general `Graph` class from [[5]](). It contains the general graph properties and functions necessary for this project. I implemented `diameter` function on my own and used NetworkX's [[3]]() implementation for estimating the average clustering coefficient of a graph. To handle duplicate edges while generating the graph, I used a separate `adjacency matrix` to check the edge existance on $O(1)$. This can be further replaced by implementing a function within the `Graph` class. I kept this outside of this project scope.\n",
    "\n",
    "1. **Erdos-Renyi Random graph (G(n, m) random network):** I generated a random instance of this model by using $n = 5242$ nodes and picking $m = 14484$ edges at random.\n",
    "\n",
    "2. **Small-World Random Network:** I generated an instance from this model as follows:\n",
    "    * Begin with n = 5242 nodes arranged as a ring, i.e., imagine the nodes form a circle and each node is connected to its two direct neighbors (e.g., node 399 is connected to nodes 398 and 400), giving us 5242 edges.\n",
    "    * Next, connect each node to the neighbors of its neighbors (e.g., node 399 is also connected to nodes 397 and 401). This gives us another 5242 edges.\n",
    "    * Finally, randomly select 4000 pairs of nodes not yet connected and add an edge between them.\n",
    "    * In total, this will make m = 5242 · 2 + 4000 = 14484 edges.\n",
    "\n",
    "For both of the graphs, I calculated the common network properties (i.e. degree distribution, diameter, clustering coefficient, etc.) and make comparison with the NetworkX [[3]]() implementation. Here is the short description of my implementation for finding common network properties:\n",
    "\n",
    "1. **Diameter:** Diameter is the longest shortest path in the network. I calculate all possible shortest path and then get the largest number from them.\n",
    "2. **Clustering coefficient:** Clustering coefficient is a measure of the degree to which nodes in a graph tend to cluster together [[9]](). I used random walk triangle counting algorithm to find clustering coefficient in a network.\n",
    "3. **Degree distribution:** I used separate $1-D$ array to keep track of degrees per vertex. Then I used $matplotlib.pyplot$ to plot the distribution in Log-Log scale.\n",
    "\n",
    "As just mentioned, to compare the correctness of my implementation for these networks, I used NetworkX's [[3]]() graph constructors. From NetworkX [[3]](), I used $G_{n,p}$ [[6]]() and $G_{n,m}$ [[8]]() models to compare with my implementation of Erdos-Renyi Random graph. I make comparison w.r.t. both $G_{n,p}$ [[6]]() and $G_{n,m}$ [[8]]() models because $G_{n,p}$ [[6]]() model does not give garuntee of fixed number of edges$-$which is one of the key property in my model. On the other hand, $G_{n,m}$ [[8]]() model does give the garuntee of fixed number of edges, but it is not listed as Erdos-Renyi Random graph in the NetworkX [[3]](). For comparing Small-World Random Network I used the $newman-watts-strogatz$ graph model from [[7]]() as the counterpart."
   ]
  },
  {
   "cell_type": "markdown",
   "metadata": {},
   "source": [
    "### General Purpose Graph Functions\n",
    "\n",
    "This subsection contains a couple of support function to calculate and visualize common network properties (i.e. degree distribution, diameter, clustering coefficient, etc.). All this functions works on either an adjacency matrix or on 1-D array."
   ]
  },
  {
   "cell_type": "code",
   "execution_count": 2,
   "metadata": {},
   "outputs": [],
   "source": [
    "\"\"\"\n",
    "    Print adjacency-matrix\n",
    "\n",
    "    attributes\n",
    "    ==========\n",
    "    mat             2-D adjacency matrix\n",
    "\"\"\"\n",
    "\n",
    "def print_adj_matrix(mat):\n",
    "    for row in mat:\n",
    "        print(row)\n",
    "    print(\"-----------------------\")"
   ]
  },
  {
   "cell_type": "code",
   "execution_count": 3,
   "metadata": {},
   "outputs": [],
   "source": [
    "# function to run bfs algorithm\n",
    "\n",
    "\"\"\"\n",
    "    Run bfs algorithm on a graph (stored in adjacency matrix)\n",
    "\n",
    "    attributes\n",
    "    ==========\n",
    "    s               source vertex\n",
    "    mat             2-D adjacency matrix\n",
    "\"\"\"\n",
    "\n",
    "def bfs(s, mat):\n",
    "    # mark all the vertices as not visited\n",
    "    visited = [False] * (len(mat))\n",
    "    dist = [-1 for i in range(len(mat))]\n",
    "\n",
    "    # queue for bfs\n",
    "    queue = []\n",
    "\n",
    "    # mark the source node and insert into queue\n",
    "    queue.append(s)\n",
    "    visited[s] = True\n",
    "    dist[s] = 0\n",
    "\n",
    "    while queue:\n",
    "        u = queue.pop(0)\n",
    "\n",
    "        v = 0\n",
    "        while(v < len(mat[u])):\n",
    "            if mat[u][v] and visited[v] == False:\n",
    "                queue.append(v)\n",
    "                visited[v] = True\n",
    "                dist[v] = dist[u] + 1\n",
    "            v = v + 1\n",
    "    return dist"
   ]
  },
  {
   "cell_type": "code",
   "execution_count": 4,
   "metadata": {},
   "outputs": [],
   "source": [
    "# function to calculate diameter of a graph\n",
    "\n",
    "\"\"\"\n",
    "    Calculate diameter of a graph (stored in adjacency matrix)\n",
    "\n",
    "    attributes\n",
    "    ==========\n",
    "    mat             2-D adjacency matrix\n",
    "\"\"\"\n",
    "\n",
    "def get_diameter(mat):\n",
    "    diameter = -1\n",
    "    i = 0\n",
    "    while (i < len(mat)):\n",
    "        dist = bfs(i, mat)\n",
    "        j = 0\n",
    "        while(j < len(dist)):\n",
    "            diameter = max(diameter, dist[j])\n",
    "            j = j + 1\n",
    "        i = i + 1\n",
    "    \n",
    "    return diameter"
   ]
  },
  {
   "cell_type": "code",
   "execution_count": 5,
   "metadata": {},
   "outputs": [],
   "source": [
    "\"\"\"\n",
    "    Calculate clustering coefficient of a graph (stored in adjacency matrix)\n",
    "\n",
    "    attributes\n",
    "    ==========\n",
    "    mat             2-D adjacency matrix\n",
    "    trials          number of random walk (default: 1000)\n",
    "\"\"\"\n",
    "\n",
    "def average_clustering(mat, trials=1000):\n",
    "    triangles = 0\n",
    "    nodes = len(mat)\n",
    "    # print(\"# of nodes: \", nodes)\n",
    "    for i in range(trials):\n",
    "        w = randrange(nodes)\n",
    "        nbrs = []\n",
    "        i = 0\n",
    "        while(i < len(mat[w])):\n",
    "            if mat[w][i]:\n",
    "                nbrs.append(i)\n",
    "            i = i + 1\n",
    "            \n",
    "        if len(nbrs) < 2:\n",
    "            continue\n",
    "        u, v = random.sample(nbrs, 2)\n",
    "        if mat[v][u]:\n",
    "            triangles += 1\n",
    "    return triangles / float(trials)"
   ]
  },
  {
   "cell_type": "code",
   "execution_count": 6,
   "metadata": {},
   "outputs": [],
   "source": [
    "\"\"\"\n",
    "    Plot degree distribution of a graph\n",
    "\n",
    "    attributes\n",
    "    ==========\n",
    "    degree          1-D array;\n",
    "                    containing the degree count for each vertex\n",
    "\"\"\"\n",
    "\n",
    "def degree_distribution_plotting(degree):\n",
    "    degree = sorted([d for d in degree])\n",
    "    degree_hist = [degree.count(x) for x in degree]\n",
    "\n",
    "    plt.figure(figsize=(12, 8))\n",
    "    plt.grid(True)\n",
    "    plt.loglog(degree, degree_hist, 'bv-') # out-degree\n",
    "    plt.xlabel('Degree')\n",
    "    plt.ylabel('Number of nodes')\n",
    "    plt.title('Degree distribution (Log-Log) of Wikipedia-Voters network')\n",
    "    plt.show()"
   ]
  },
  {
   "cell_type": "markdown",
   "metadata": {},
   "source": [
    "### General Purpose Graph Structures"
   ]
  },
  {
   "cell_type": "code",
   "execution_count": 7,
   "metadata": {},
   "outputs": [],
   "source": [
    "class Vertex:\n",
    "    \"\"\"\n",
    "        Class for a single vertex\n",
    "        \n",
    "        Attributes\n",
    "        ==========\n",
    "        key             vertex-id\n",
    "        neighbors       adjacency list;\n",
    "                        contains edges from key\n",
    "    \"\"\"\n",
    "    \n",
    "    def __init__(self, key):\n",
    "        self.key = key\n",
    "        self.neighbors = {}\n",
    "\n",
    "    def add_neighbor(self, neighbor, weight=None):\n",
    "        self.neighbors[neighbor] = weight\n",
    "\n",
    "    def __str__(self):\n",
    "        return '{} neighbors: {}'.format(\n",
    "            self.key,\n",
    "            [x.key for x in self.neighbors]\n",
    "        )\n",
    "\n",
    "    def get_connections(self):\n",
    "        return self.neighbors.keys()\n",
    "\n",
    "    def get_weight(self, neighbor):\n",
    "        return self.neighbors[neighbor]"
   ]
  },
  {
   "cell_type": "code",
   "execution_count": 8,
   "metadata": {},
   "outputs": [],
   "source": [
    "class Graph:\n",
    "    \"\"\"\n",
    "        Class for storing the whole graph\n",
    "        \n",
    "        Attributes\n",
    "        ==========\n",
    "        vertices        1-D array containing vertex-ids\n",
    "    \"\"\"\n",
    "    \n",
    "    def __init__(self):\n",
    "        self.vertices = {}\n",
    "    \n",
    "    def __init__(self, max_vertices):\n",
    "        self.vertices = {}\n",
    "        for i in range(max_vertices):\n",
    "            self.add_vertex(Vertex(i))\n",
    "\n",
    "    def add_vertex(self, vertex):\n",
    "        self.vertices[vertex.key] = vertex\n",
    "\n",
    "    def get_vertex(self, key):\n",
    "        if key in self.vertices[key]:\n",
    "            return self.vertices[key]\n",
    "        else:\n",
    "            return None\n",
    "\n",
    "    def __contains__(self, key):\n",
    "        \"\"\"\n",
    "        Overload the in operator to support:\n",
    "          >>> g = Graph()\n",
    "          >>> g.add_vertex(Vertex(42))\n",
    "          >>> 42 in g\n",
    "          True\n",
    "        \"\"\"\n",
    "        return key in self.vertices\n",
    "\n",
    "    def add_edge(self, from_key, to_key, weight=None):\n",
    "        if from_key not in self.vertices:\n",
    "            self.add_vertex(Vertex(from_key))\n",
    "        if to_key not in self.vertices:\n",
    "            self.add_vertex(Vertex(to_key))\n",
    "        self.vertices[from_key].add_neighbor(\n",
    "            self.vertices[to_key],\n",
    "            weight\n",
    "        )\n",
    "\n",
    "    def get_vertices(self):\n",
    "        return self.vertices.keys()\n",
    "\n",
    "    def __iter__(self):\n",
    "        return iter(self.vertices.values())\n",
    "    \n",
    "    # function to run bfs algorithm\n",
    "    def bfs(self, s):\n",
    "        # mark all the vertices as not visited\n",
    "        visited = [False] * (len(self.vertices))\n",
    "        dist = [-1 for i in range(len(self.vertices))]\n",
    "\n",
    "        # queue for bfs\n",
    "        queue = []\n",
    "\n",
    "        # mark the source node and insert into queue\n",
    "        queue.append(s)\n",
    "        visited[s.key] = True\n",
    "        dist[s.key] = 0\n",
    "\n",
    "        while queue:\n",
    "            u = queue.pop(0)\n",
    "\n",
    "            for v in u.get_connections():\n",
    "                if visited[v.key] == False:\n",
    "                    queue.append(v)\n",
    "                    visited[v.key] = True\n",
    "                    dist[v.key] = dist[u.key] + 1\n",
    "        return dist\n",
    "    \n",
    "    # function to calculate diameter of a graph\n",
    "    def get_diameter(self):\n",
    "        diameter = -1\n",
    "        for u in self:\n",
    "            dist = self.bfs(u)\n",
    "            j = 0\n",
    "            while(j < len(dist)):\n",
    "                diameter = max(diameter, dist[j])\n",
    "                j = j + 1\n",
    "\n",
    "        return diameter\n",
    "    \n",
    "    def average_clustering(self, trials=100000): \n",
    "        \"\"\"\n",
    "        NetworkX implementation for clustering coefficient.\n",
    "        \n",
    "        Estimates the average clustering coefficient of G. \n",
    "\n",
    "        The local clustering of each node in `G` is the  \n",
    "        fraction of triangles that actually exist over  \n",
    "        all possible triangles in its neighborhood. \n",
    "        The average clustering coefficient of a graph  \n",
    "        `G` is the mean of local clusterings. \n",
    "\n",
    "        This function finds an approximate average\n",
    "        clustering coefficient for G by repeating `n`  \n",
    "        times (defined in `trials`) the following \n",
    "        experiment: choose a node at random, choose  \n",
    "        two of its neighbors at random, and check if \n",
    "        they are connected. The approximate coefficient  \n",
    "        is the fraction of triangles found over the  \n",
    "        number of trials [1]_. \n",
    "\n",
    "        Parameters \n",
    "        ----------\n",
    "        trials : integer \n",
    "            Number of trials to perform (default 100000). \n",
    "\n",
    "        Returns \n",
    "        ------- \n",
    "        c : float \n",
    "            Approximated average clustering coefficient.\n",
    "        \"\"\"\n",
    "        triangles = 0\n",
    "        nodes = len(self.vertices)\n",
    "        # print(\"# of nodes: \", nodes)\n",
    "        for i in range(trials):\n",
    "            w = randrange(nodes)\n",
    "            nbrs = list(self.vertices[w].get_connections())\n",
    "            if len(nbrs) < 2:\n",
    "                continue\n",
    "            u, v = random.sample(nbrs, 2)\n",
    "            # print(\"u\", u, \"v\", v, \"w\", w)\n",
    "            if u in list(self.vertices[v.key].get_connections()):\n",
    "                triangles += 1\n",
    "        # print(\"triangles:\", triangles, \"trials: \", trials)\n",
    "        return float(triangles) / float(trials)"
   ]
  },
  {
   "cell_type": "markdown",
   "metadata": {},
   "source": [
    "### Erdos-Renyi Random graph"
   ]
  },
  {
   "cell_type": "code",
   "execution_count": 14,
   "metadata": {},
   "outputs": [
    {
     "name": "stdout",
     "output_type": "stream",
     "text": [
      "probability p:  0.0010544047057723853\n",
      "rand_th:  105\n"
     ]
    }
   ],
   "source": [
    "# graph is undirected\n",
    "\n",
    "num_nodes = 5242\n",
    "num_edges = 14484\n",
    "\n",
    "### values for testing\n",
    "# num_nodes = 10\n",
    "# num_edges = 5\n",
    "\n",
    "max_possible_edges = (num_nodes * (num_nodes - 1)) / 2\n",
    "p = num_edges / max_possible_edges\n",
    "print(\"probability p: \", p)\n",
    "\n",
    "prob_converter = 100000\n",
    "rand_th = int(p * prob_converter)\n",
    "print(\"rand_th: \", rand_th)"
   ]
  },
  {
   "cell_type": "markdown",
   "metadata": {},
   "source": [
    "#### My Implementation"
   ]
  },
  {
   "cell_type": "markdown",
   "metadata": {},
   "source": [
    "Constructing the instance of Erdos-Renyi model."
   ]
  },
  {
   "cell_type": "code",
   "execution_count": 15,
   "metadata": {},
   "outputs": [],
   "source": [
    "adj_mat_erdos = [ [0] * num_nodes for i in range(num_nodes)]\n",
    "G_erdos_me = Graph(num_nodes)\n",
    "count_edges_erdos = 0\n",
    "deg_erdos = [0 for i in range(num_nodes)]"
   ]
  },
  {
   "cell_type": "markdown",
   "metadata": {},
   "source": [
    "Inserting edges in the Erdos-Renyi model."
   ]
  },
  {
   "cell_type": "code",
   "execution_count": 16,
   "metadata": {},
   "outputs": [],
   "source": [
    "import random\n",
    "from random import randrange\n",
    "\n",
    "random.seed()\n",
    "\n",
    "# print_adj_matrix()\n",
    "\n",
    "while(count_edges_erdos < num_edges):\n",
    "    i = 0\n",
    "    j = i + 1\n",
    "    \n",
    "    while (i < len(adj_mat_erdos)):\n",
    "        while(j < len(adj_mat_erdos[i])):\n",
    "            if(adj_mat_erdos[i][j] == 0):\n",
    "                toss = randrange(prob_converter)\n",
    "                if(toss <= rand_th):\n",
    "                    # print(toss, \" \", i, \" \", j)\n",
    "                    adj_mat_erdos[i][j] = 1\n",
    "                    adj_mat_erdos[j][i] = 1\n",
    "                    \n",
    "                    deg_erdos[i] += 1\n",
    "                    deg_erdos[j] += 1\n",
    "                    \n",
    "                    G_erdos_me.add_edge(i, j)\n",
    "                    G_erdos_me.add_edge(j, i)\n",
    "                    \n",
    "                    count_edges_erdos += 1\n",
    "                    # print_adj_matrix()\n",
    "                    \n",
    "            if(count_edges_erdos == num_edges): break\n",
    "            j = j + 1\n",
    "            \n",
    "        i = i + 1\n",
    "        j = i + 1\n",
    "        if(count_edges_erdos == num_edges): break\n",
    "\n",
    "# print_adj_matrix()"
   ]
  },
  {
   "cell_type": "code",
   "execution_count": 24,
   "metadata": {},
   "outputs": [],
   "source": [
    "## Note: Adjacency matrix is taking too much time to calculate diameter.\n",
    "## This is one of the reasons I moved to adjacency list type structure for storing the graph.\n",
    "\n",
    "diameter = get_diameter(adj_mat_erdos)\n",
    "print(\"diameter: \", diameter)"
   ]
  },
  {
   "cell_type": "code",
   "execution_count": 27,
   "metadata": {},
   "outputs": [
    {
     "name": "stdout",
     "output_type": "stream",
     "text": [
      "diameter:  10\n"
     ]
    }
   ],
   "source": [
    "diameter = G_erdos_me.get_diameter()\n",
    "print(\"diameter: \", diameter)"
   ]
  },
  {
   "cell_type": "code",
   "execution_count": 17,
   "metadata": {},
   "outputs": [
    {
     "data": {
      "image/png": "[encoded data removed]",
      "text/plain": [
       "<Figure size 864x576 with 1 Axes>"
      ]
     },
     "metadata": {
      "needs_background": "light"
     },
     "output_type": "display_data"
    }
   ],
   "source": [
    "# print(deg)\n",
    "degree_distribution_plotting(deg_erdos)"
   ]
  },
  {
   "cell_type": "code",
   "execution_count": 18,
   "metadata": {},
   "outputs": [
    {
     "name": "stdout",
     "output_type": "stream",
     "text": [
      "clustering coefficient:  0.00085\n"
     ]
    }
   ],
   "source": [
    "c_coeff = G_erdos_me.average_clustering()\n",
    "print(\"clustering coefficient: \", c_coeff)"
   ]
  },
  {
   "cell_type": "code",
   "execution_count": 28,
   "metadata": {},
   "outputs": [
    {
     "name": "stdout",
     "output_type": "stream",
     "text": [
      "clustering coefficient:  0.0\n"
     ]
    }
   ],
   "source": [
    "## Note: Adjacency matrix is taking too much time to calculate clustering coefficient.\n",
    "\n",
    "c_coeff = average_clustering(adj_mat_erdos)\n",
    "print(\"clustering coefficient: \", c_coeff)"
   ]
  },
  {
   "cell_type": "markdown",
   "metadata": {},
   "source": [
    "#### NetworkX Implementation: erdos_renyi_graph"
   ]
  },
  {
   "cell_type": "code",
   "execution_count": 19,
   "metadata": {},
   "outputs": [
    {
     "name": "stdout",
     "output_type": "stream",
     "text": [
      "Clustering Coefficient: 0.0010670515630454575\n",
      "Number of edges: 14646\n"
     ]
    }
   ],
   "source": [
    "G_erdos_nx = nx.erdos_renyi_graph(num_nodes, p)\n",
    "\n",
    "cc = nx.average_clustering(G_erdos_nx)\n",
    "print(\"Clustering Coefficient:\", cc)\n",
    "print(\"Number of edges:\", nx.number_of_edges(G_erdos_nx))"
   ]
  },
  {
   "cell_type": "code",
   "execution_count": 31,
   "metadata": {},
   "outputs": [
    {
     "name": "stdout",
     "output_type": "stream",
     "text": [
      "Diameter:  10\n"
     ]
    }
   ],
   "source": [
    "dia = 0\n",
    "\n",
    "if nx.is_connected(G_erdos_nx) == False:\n",
    "    for cc in nx.connected_components(G_erdos_nx):\n",
    "        sub_g = G_erdos_nx.subgraph(cc)\n",
    "        if len(sub_g) > 1:\n",
    "            dia = max(dia, nx.diameter(sub_g))\n",
    "else:\n",
    "    dia = nx.diameter(G_erdos_nx)\n",
    "    \n",
    "print(\"Diameter: \", dia)"
   ]
  },
  {
   "cell_type": "code",
   "execution_count": 20,
   "metadata": {
    "scrolled": false
   },
   "outputs": [
    {
     "data": {
      "image/png": "[encoded data removed]",
      "text/plain": [
       "<Figure size 864x576 with 1 Axes>"
      ]
     },
     "metadata": {
      "needs_background": "light"
     },
     "output_type": "display_data"
    }
   ],
   "source": [
    "degree_distribution_plotting([d for n, d in G_erdos_nx.degree()])"
   ]
  },
  {
   "cell_type": "markdown",
   "metadata": {},
   "source": [
    "#### NetworkX Implementation: gnm_random_graph"
   ]
  },
  {
   "cell_type": "code",
   "execution_count": 21,
   "metadata": {},
   "outputs": [
    {
     "name": "stdout",
     "output_type": "stream",
     "text": [
      "Clustering Coefficient: 0.0009224761418580569\n",
      "Number of edges: 14484\n"
     ]
    }
   ],
   "source": [
    "G_nm_nx = nx.gnm_random_graph(num_nodes, num_edges)\n",
    "\n",
    "cc = nx.average_clustering(G_nm_nx)\n",
    "print(\"Clustering Coefficient:\", cc)\n",
    "print(\"Number of edges:\", nx.number_of_edges(G_nm_nx))"
   ]
  },
  {
   "cell_type": "code",
   "execution_count": 23,
   "metadata": {},
   "outputs": [
    {
     "name": "stdout",
     "output_type": "stream",
     "text": [
      "Diameter:  10\n"
     ]
    }
   ],
   "source": [
    "dia = 0\n",
    "\n",
    "if nx.is_connected(G_nm_nx) == False:\n",
    "    for cc in nx.connected_components(G_nm_nx):\n",
    "        sub_g = G_nm_nx.subgraph(cc)\n",
    "        if len(sub_g) > 1:\n",
    "            dia = max(dia, nx.diameter(sub_g))\n",
    "else:\n",
    "    dia = nx.diameter(G_nm_nx)\n",
    "    \n",
    "print(\"Diameter: \", dia)"
   ]
  },
  {
   "cell_type": "code",
   "execution_count": 22,
   "metadata": {},
   "outputs": [
    {
     "data": {
      "image/png": "[encoded data removed]",
      "text/plain": [
       "<Figure size 864x576 with 1 Axes>"
      ]
     },
     "metadata": {
      "needs_background": "light"
     },
     "output_type": "display_data"
    }
   ],
   "source": [
    "degree_distribution_plotting([d for n, d in G_nm_nx.degree()])"
   ]
  },
  {
   "cell_type": "markdown",
   "metadata": {},
   "source": [
    "#### Comparison of Erdos-Renyi Random graph: My Implementation Vs. NetworkX\n",
    "\n",
    "1. **Diameter:** For both of the graph models have the same diameter (i.e. $10$). This is interesting considering $G_{n,p}$ model has different number of edges but producing similar diameter in the network.\n",
    "2. **Clustering coefficient:** We found a difference in clustering coefficient in between these two models. The NetworkX graph model gives $0.0009224761418580569$ as the value of clustering coefficient but from my model I found $0.00085$ ($1.08x$ lower than `NetworkX`). Although the gap is quite low, but I believe this is happened due to the different network building process. In my case, I build this network by giving edges equal probability to be selected. Different implementation$-$for example choosing nodes randomly as the endpoint of edges$-$could lead to a different result.\n",
    "3. **Degree distribution:** The degree distribution shows somewhat similar behaviour for these two models.\n",
    "\n",
    "The overall comparison is interesting$-$NetworkX Erdos-Renyi $G_{n,p}$ graph model shows similar graph properties with my implementation$-$although those models have different number of edges.\n",
    "\n",
    "#### Comparison of Erdos-Renyi Random graph: My Implementation Vs. NetworkX\n",
    "To make fair comparison with my implementation, I further implemented $G_{n,m}$ graph model from NetworkX and found it shows high similarity with my implementation."
   ]
  },
  {
   "cell_type": "markdown",
   "metadata": {},
   "source": [
    "### Small-World Random Network"
   ]
  },
  {
   "cell_type": "markdown",
   "metadata": {},
   "source": [
    "#### My Implementation"
   ]
  },
  {
   "cell_type": "code",
   "execution_count": 28,
   "metadata": {},
   "outputs": [],
   "source": [
    "adj_mat_sw = [ [0] * num_nodes for i in range(num_nodes)]\n",
    "G_sw_me = Graph(num_nodes)\n",
    "count_edges_sw = 0\n",
    "deg_sw = [0 for i in range(num_nodes)]\n",
    "# print(deg)"
   ]
  },
  {
   "cell_type": "code",
   "execution_count": 29,
   "metadata": {},
   "outputs": [],
   "source": [
    "import random\n",
    "from random import randrange\n",
    "\n",
    "random.seed()\n",
    "\n",
    "for u in range(num_nodes):\n",
    "    v = (u + 1) % num_nodes\n",
    "    adj_mat_sw[u][v] = 1\n",
    "    adj_mat_sw[v][u] = 1\n",
    "\n",
    "    deg_sw[u] += 1\n",
    "    deg_sw[v] += 1\n",
    "\n",
    "    G_sw_me.add_edge(u, v)\n",
    "    G_sw_me.add_edge(v, u)\n",
    "\n",
    "    count_edges_sw += 1\n",
    "\n",
    "for u in range(num_nodes):\n",
    "    v = (u + 2) % num_nodes\n",
    "    adj_mat_sw[u][v] = 1\n",
    "    adj_mat_sw[v][u] = 1\n",
    "\n",
    "    deg_sw[u] += 1\n",
    "    deg_sw[v] += 1\n",
    "\n",
    "    G_sw_me.add_edge(u, v)\n",
    "    G_sw_me.add_edge(v, u)\n",
    "\n",
    "    count_edges_sw += 1\n",
    "\n",
    "while(count_edges_sw < num_edges):\n",
    "    u = randrange(num_nodes)\n",
    "    v = randrange(num_nodes)\n",
    "    \n",
    "    if u != v and adj_mat_sw[u][v] == 0:\n",
    "        adj_mat_sw[u][v] = 1\n",
    "        adj_mat_sw[v][u] = 1\n",
    "\n",
    "        deg_sw[u] += 1\n",
    "        deg_sw[v] += 1\n",
    "\n",
    "        G_sw_me.add_edge(u, v)\n",
    "        G_sw_me.add_edge(v, u)\n",
    "\n",
    "        count_edges_sw += 1\n",
    "\n",
    "# print_adj_matrix()"
   ]
  },
  {
   "cell_type": "code",
   "execution_count": 35,
   "metadata": {},
   "outputs": [
    {
     "name": "stdout",
     "output_type": "stream",
     "text": [
      "diameter:  10\n"
     ]
    }
   ],
   "source": [
    "diameter = G_sw_me.get_diameter()\n",
    "print(\"diameter: \", diameter)"
   ]
  },
  {
   "cell_type": "code",
   "execution_count": 30,
   "metadata": {},
   "outputs": [
    {
     "data": {
      "image/png": "[encoded data removed]",
      "text/plain": [
       "<Figure size 864x576 with 1 Axes>"
      ]
     },
     "metadata": {
      "needs_background": "light"
     },
     "output_type": "display_data"
    }
   ],
   "source": [
    "# print(deg)\n",
    "degree_distribution_plotting(deg_sw)"
   ]
  },
  {
   "cell_type": "code",
   "execution_count": 31,
   "metadata": {},
   "outputs": [
    {
     "name": "stdout",
     "output_type": "stream",
     "text": [
      "clustering coefficient:  0.28679\n"
     ]
    }
   ],
   "source": [
    "c_coeff = G_sw_me.average_clustering()\n",
    "print(\"clustering coefficient: \", c_coeff)"
   ]
  },
  {
   "cell_type": "markdown",
   "metadata": {},
   "source": [
    "#### NetworkX Implementation: newman_watts_strogatz_graph"
   ]
  },
  {
   "cell_type": "code",
   "execution_count": 32,
   "metadata": {},
   "outputs": [
    {
     "name": "stdout",
     "output_type": "stream",
     "text": [
      "number of edges: 14459\n",
      "Clustering Coefficient:  0.2783509868401089\n"
     ]
    }
   ],
   "source": [
    "k = 4\n",
    "on_ring_num_edges = (2 * num_nodes)\n",
    "# max_possible_off_ring_edges = ((num_nodes * (num_nodes - 1)) / 2) - on_ring_num_edges\n",
    "off_ring_num_edges = num_edges - on_ring_num_edges\n",
    "# p = off_ring_num_edges / max_possible_off_ring_edges\n",
    "p = off_ring_num_edges / on_ring_num_edges\n",
    "\n",
    "G_sw_nx = nx.newman_watts_strogatz_graph(num_nodes, k, p)\n",
    "\n",
    "print(\"number of edges:\", G_sw_nx.number_of_edges())\n",
    "\n",
    "cc = nx.average_clustering(G_sw_nx)\n",
    "print(\"Clustering Coefficient: \", cc)"
   ]
  },
  {
   "cell_type": "code",
   "execution_count": 39,
   "metadata": {},
   "outputs": [
    {
     "name": "stdout",
     "output_type": "stream",
     "text": [
      "Diameter:  10\n"
     ]
    }
   ],
   "source": [
    "dia = 0\n",
    "\n",
    "if nx.is_connected(G_sw_nx) == False:\n",
    "    for cc in nx.connected_components(G_sw_nx):\n",
    "        sub_g = G_sw_nx.subgraph(cc)\n",
    "        if len(sub_g) > 1:\n",
    "            dia = max(dia, nx.diameter(sub_g))\n",
    "else:\n",
    "    dia = nx.diameter(G_sw_nx)\n",
    "    \n",
    "print(\"Diameter: \", dia)"
   ]
  },
  {
   "cell_type": "code",
   "execution_count": 33,
   "metadata": {},
   "outputs": [
    {
     "data": {
      "image/png": "[encoded data removed]",
      "text/plain": [
       "<Figure size 864x576 with 1 Axes>"
      ]
     },
     "metadata": {
      "needs_background": "light"
     },
     "output_type": "display_data"
    }
   ],
   "source": [
    "degree_distribution_plotting([d for n, d in G_sw_nx.degree()])"
   ]
  },
  {
   "cell_type": "markdown",
   "metadata": {},
   "source": [
    "#### Comparison of Small-World Random Network: My Implementation Vs. NetworkX\n",
    "\n",
    "1. **Diameter:** For both of the graph models have the same diameter (i.e. $10$)\n",
    "2. **Clustering coefficient:** We found a very similar clustering coefficient from these two models. $0.2783509868401089$ from NetworkX Vs. $0.28679$ from my model.\n",
    "3. **Degree distribution:** The degree distribution shows somewhat similar behaviour for these two models. Only noticeable deviation is an extension after $10$ in the $x-axis$ in the degree distribution of my model.\n",
    "\n",
    "#### Overall Observation from this Experiment\n",
    "\n",
    "More interesting observation is, although both of the `Erdos-Renyi Random graph` and `Small-World Random Network` have same number of nodes and edges, it shows **similarity** in `diameter` and **dissimilarity** in `degree distribution` and `clustering coefficient`. This is surely due to the way we build the network. And it implies the importance of the building process of different random network."
   ]
  },
  {
   "cell_type": "markdown",
   "metadata": {},
   "source": [
    "## 5. Random Graphs with Clustering [40 points]\n",
    "\n",
    "Consider the following random graph model with clustering. For $n$ nodes, we have ${n \\choose 3}$ ‘triplets’. For each triplet, with independent probability $p$ we connect the nodes belonging to this triplet in the graph using three edges to form a triangle, where $p$ = $\\frac{c}{n-1 \\choose 2}$.\n",
    "\n",
    "Assume $n$ is very large.\n",
    "\n",
    "* Question 1: Prove that the expected degree in this model is $2c$. [Hint: expected degree of a node $u$ in this generative model is equal to twice the expected number of triangles incident on $u$]\n",
    "* Question 2: What is the clustering coefficient $C$? What is the value of $C$ as $n$ tends to infinity?\n",
    "* Question 3: Implement this model to computationally derive degree distribution, diameter, and clustering coefficient."
   ]
  },
  {
   "cell_type": "markdown",
   "metadata": {},
   "source": [
    "### Question 1\n",
    "\n",
    "In this problem it is given that we have $n$ nodes. So, total number of `triplets`, $tt = {n \\choose 3}$. Simplifying $tt$,\n",
    "\n",
    "$$\n",
    "\\begin{align*}\n",
    "tt &= {n \\choose 3}\\\\\n",
    "   &= \\frac{n * (n-1) * (n-2)}{3!}\\\\\n",
    "   &= \\frac{n * (n-1) * (n-2)}{6}\n",
    "\\end{align*}\n",
    "$$\n",
    "\n",
    "Clearly, each `triplet` contributes $3$ edges in the graph. It is also given that, for each triplet with independent probability $p$ we connect the nodes belonging to this triplet in the graph using the three contributing edges to form a triangle, where\n",
    "\n",
    "$$\n",
    "\\begin{align*}\n",
    "p &= \\frac{c}{n-1 \\choose 2}\\\\\n",
    "   &= \\frac{2 * c}{(n-1) * (n-2)}\n",
    "\\end{align*}\n",
    "$$\n",
    "\n",
    "As of given total number of `triplets` $tt$ and the possibility to choose a single `triplet` to be present in the graph, the actual number of `triplets` in the graph, $x$ is\n",
    "\n",
    "$$\n",
    "\\begin{align*}\n",
    "x &= p * tt\\\\\n",
    "   &= \\frac{2 * c}{(n-1) * (n-2)} * \\frac{n * (n-1) * (n-2)}{6}\\\\\n",
    "   &= \\frac{c * n}{3}\n",
    "\\end{align*}\n",
    "$$\n",
    "\n",
    "Now, let's consider we have total of $e$ edges in the graph. As we already know$-$\n",
    "* there are total of $x$ `triplets` in the graph\n",
    "* each `triplet` contributes $3$ edges in the graph\n",
    "* other than `triplets` there is no aditional edges in the graph\n",
    "\n",
    "So, we can write $e$ as,\n",
    "\n",
    "$$\n",
    "\\begin{align*}\n",
    "e &= 3 * x\\\\\n",
    "   &= 3 * \\frac{c * n}{3}\\\\\n",
    "   &= c * n\n",
    "\\end{align*}\n",
    "$$\n",
    "\n",
    "For undirected graph, we can calculate the `expected average degree` $d$ as,\n",
    "\n",
    "$$\n",
    "\\begin{align*}\n",
    "d &= \\frac{2 * e}{n}\\\\\n",
    "    &= \\frac{2 * c * n}{n}\\\\\n",
    "    &= 2 * c\n",
    "\\end{align*}\n",
    "$$\n",
    "\n",
    "From this, it is proved that the expected degree ($d$) in this model is $2c$."
   ]
  },
  {
   "cell_type": "markdown",
   "metadata": {},
   "source": [
    "### Question 2\n",
    "\n",
    "* What is the clustering coefficient C?\n",
    "\n",
    "From the previous section we get the total number of `triplets` ($tt$) and the actual number of `triplets` ($x$) in the graph. So, by using this information we can calculate the `clustering coefficient` $C$$-$\n",
    "\n",
    "$$\n",
    "\\begin{align*}\n",
    "C &= \\frac{x}{tt}\\\\\n",
    "   &= \\frac{c * n}{3} * \\frac{6}{n * (n-1) * (n-2)}\\\\\n",
    "   &= \\frac{2 * c}{(n-1) * (n-2)}\n",
    "\\end{align*}\n",
    "$$\n",
    "\n",
    "* What is the value of $C$ as $n$ tends to infinity?\n",
    "\n",
    "So, we can see when $n$ tends to infinity the denominator of the above equation become infinite. Which will ultimately makes the value of $C$ tends to $0$. Bellow I have plotted the graph for $C$ varying $n$. From the figure we can clearly observe that increasing the number of nodes in the graph bring the clustering coefficient near to $0$.\n",
    "\n",
    "**N.B.:** I was trying to put the latex equation numbers here, but was facing some issue handling that. So instead of calling by equation number, I used the variable names."
   ]
  },
  {
   "cell_type": "code",
   "execution_count": 41,
   "metadata": {},
   "outputs": [
    {
     "data": {
      "image/png": "[encoded data removed]",
      "text/plain": [
       "<Figure size 432x288 with 1 Axes>"
      ]
     },
     "metadata": {
      "needs_background": "light"
     },
     "output_type": "display_data"
    }
   ],
   "source": [
    "# Plotting of clustering coefficient varying number of nodes\n",
    "c = 10\n",
    "x1 = []\n",
    "y1 = []\n",
    "\n",
    "for n in np.arange(1000, 100000):\n",
    "    c_coeff = (2 * c) / ((n-1) * (n-2))\n",
    "    x1.append(n)\n",
    "    y1.append(c_coeff)\n",
    "\n",
    "fig, ax = plt.subplots()\n",
    "ax.plot(x1, y1)\n",
    "\n",
    "ax.set(xlabel='# of nodes', ylabel='clustering coefficient',\n",
    "       title='Change of clustering coefficient varying # of nodes')\n",
    "ax.grid()\n",
    "\n",
    "# fig.savefig(\"test.png\")\n",
    "plt.show()"
   ]
  },
  {
   "cell_type": "markdown",
   "metadata": {},
   "source": [
    "### Question 3\n",
    "\n",
    "In this section, I implement this model to computationally report degree distribution, diameter, and clustering coefficient. In building the model, I considered a fixed number of nodes ($1000$ in this case) and set the constant $c=1000$. Then as the description of this problem suggests, I calculate the probability $p$ and choose the triplets randomly with $p$ probability. After building the model, I calculate the common network properties and here is the listing:\n",
    "\n",
    "0. **Number of triplets:** 272358; **Number of edges:** 432298\n",
    "1. **Diameter:** $2$; this is expected considering we build our model by choosing triplets and it would produce diamond shape clusters in the network.\n",
    "2. **Clustering coefficient:** 0.86638; this number is prety high! From the formulation of clustering coefficient in $Question 2$, we know this value should be $0.002$ (approximately). The probable explanation of getting this larger number could be the randomization we used to calculate the clustering coefficient.\n",
    "3. **Degree distribution:** The degree distribution of this network is quite different from what we get in `Small-World Random Network` and `Erdős–Rényi Random Graph`. This degree distribution actually supports my previous claim$-$the diamond shape clusters in the network. A larger portion of the nodes contains higher degree than the rest of the network. This also justyfies the reason of lower diameters in the network."
   ]
  },
  {
   "cell_type": "code",
   "execution_count": 16,
   "metadata": {},
   "outputs": [],
   "source": [
    "num_nodes = 1000\n",
    "c = 1000\n",
    "p = (2 * c) / ((num_nodes-1) * (num_nodes-2))\n",
    "rand_range = 100000\n",
    "rand_th = int(p * rand_range)\n",
    "# print(rand_th)"
   ]
  },
  {
   "cell_type": "code",
   "execution_count": 17,
   "metadata": {},
   "outputs": [],
   "source": [
    "adj_mat_triplet = [ [0] * num_nodes for i in range(num_nodes)]\n",
    "G_triplet = Graph(num_nodes)\n",
    "deg_triplet = [0 for i in range(num_nodes)]\n",
    "num_edges = 0\n",
    "num_triplet = 0"
   ]
  },
  {
   "cell_type": "code",
   "execution_count": 18,
   "metadata": {},
   "outputs": [
    {
     "name": "stdout",
     "output_type": "stream",
     "text": [
      "number of edges in the graph: 432298\n",
      "number of triplets in the graph: 272358\n"
     ]
    }
   ],
   "source": [
    "import random\n",
    "from random import randrange\n",
    "\n",
    "random.seed()\n",
    "\n",
    "i = 0\n",
    "j = i + 1\n",
    "k = j + 1\n",
    "\n",
    "while (i < num_nodes):\n",
    "    while(j < num_nodes):\n",
    "        while(k < num_nodes):\n",
    "            # print(\"i:\", i, \"j:\", j, \"k:\", k)\n",
    "            if(adj_mat_triplet[i][j] == 1 \n",
    "               and adj_mat_triplet[j][k] == 1 \n",
    "               and adj_mat_triplet[k][i] == 1):\n",
    "                k = k + 1\n",
    "                continue;\n",
    "            \n",
    "            toss = randrange(rand_range)\n",
    "            if(toss <= rand_th):\n",
    "                # print(\"i\", i, \"j\", j, \"k\", k)\n",
    "                num_triplet = num_triplet + 1\n",
    "                \n",
    "                if adj_mat_triplet[i][j] == 0:\n",
    "                    adj_mat_triplet[i][j] = 1\n",
    "                    adj_mat_triplet[j][i] = 1\n",
    "\n",
    "                    deg_triplet[i] += 1\n",
    "                    deg_triplet[j] += 1\n",
    "\n",
    "                    G_triplet.add_edge(i, j)\n",
    "                    G_triplet.add_edge(j, i)\n",
    "\n",
    "                    num_edges += 1\n",
    "                    \n",
    "                if adj_mat_triplet[j][k] == 0:\n",
    "                    adj_mat_triplet[j][k] = 1\n",
    "                    adj_mat_triplet[k][j] = 1\n",
    "\n",
    "                    deg_triplet[j] += 1\n",
    "                    deg_triplet[k] += 1\n",
    "\n",
    "                    G_triplet.add_edge(j, k)\n",
    "                    G_triplet.add_edge(k, j)\n",
    "\n",
    "                    num_edges += 1\n",
    "                \n",
    "                if adj_mat_triplet[k][i] == 0:\n",
    "                    adj_mat_triplet[k][i] = 1\n",
    "                    adj_mat_triplet[i][k] = 1\n",
    "\n",
    "                    deg_triplet[k] += 1\n",
    "                    deg_triplet[i] += 1\n",
    "\n",
    "                    G_triplet.add_edge(k, i)\n",
    "                    G_triplet.add_edge(i, k)\n",
    "\n",
    "                    num_edges += 1\n",
    "            k = k + 1\n",
    "        j = j + 1\n",
    "        k = j + 1\n",
    "\n",
    "    i = i + 1\n",
    "    j = i + 1\n",
    "    k = j + 1\n",
    "\n",
    "print(\"number of edges in the graph:\", num_edges)\n",
    "print(\"number of triplets in the graph:\", num_triplet)"
   ]
  },
  {
   "cell_type": "code",
   "execution_count": 21,
   "metadata": {},
   "outputs": [
    {
     "name": "stdout",
     "output_type": "stream",
     "text": [
      "diameter:  2\n"
     ]
    }
   ],
   "source": [
    "diameter = G_triplet.get_diameter()\n",
    "print(\"diameter: \", diameter)"
   ]
  },
  {
   "cell_type": "code",
   "execution_count": 19,
   "metadata": {},
   "outputs": [
    {
     "data": {
      "image/png": "[encoded data removed]",
      "text/plain": [
       "<Figure size 864x576 with 1 Axes>"
      ]
     },
     "metadata": {
      "needs_background": "light"
     },
     "output_type": "display_data"
    }
   ],
   "source": [
    "# print(deg)\n",
    "degree_distribution_plotting(deg_triplet)"
   ]
  },
  {
   "cell_type": "code",
   "execution_count": 20,
   "metadata": {},
   "outputs": [
    {
     "name": "stdout",
     "output_type": "stream",
     "text": [
      "clustering coefficient:  0.86638\n"
     ]
    }
   ],
   "source": [
    "c_coeff = G_triplet.average_clustering()\n",
    "print(\"clustering coefficient: \", c_coeff)"
   ]
  },
  {
   "cell_type": "markdown",
   "metadata": {},
   "source": [
    "# References\n",
    "\n",
    "\n",
    "[1] Erdős, Paul, and Alfréd Rényi. 1960. “On the Evolution of Random Graphs.” Bull. Inst. Internat. Statis. 38 (4): 343–47.\n",
    "\n",
    "[2] M. E. J. Newman and D. J. Watts, Renormalization group analysis of the small-world network model, Physics Letters A, 263, 341, 1999. https://doi.org/10.1016/S0375-9601(99)00757-4\n",
    "\n",
    "[3] NetworkX, “Software for Complex Networks,” https://networkx.github.io/documentation/stable/, 2020, accessed: 2020-10.\n",
    "\n",
    "[4] NetworkX, “Install NetworkX Documentation,” https://networkx.github.io/documentation/stable/install.html, 2020, accessed: 2020-10.\n",
    "\n",
    "[5] Graphs and Graph Algorithms, \"Problem Solving with Algorithms and Data Structures using Python,\" http://www.openbookproject.net/books/pythonds/Graphs/Implementation.html, 2020, accessed: 2020-10.\n",
    "\n",
    "[6] NetworkX, \"erdos_renyi_graph,\" https://networkx.org/documentation/stable/reference/generated/networkx.generators.random_graphs.erdos_renyi_graph.html, 2020, accessed: 2020-10.\n",
    "\n",
    "[7] NetworkX, \"newman_watts_strogatz_graph,\" https://networkx.org/documentation/stable/reference/generated/networkx.generators.random_graphs.newman_watts_strogatz_graph.html, 2020, accessed: 2020-10.\n",
    "\n",
    "[8] NetworkX, \"gnm_random_graph,\" https://networkx.org/documentation/stable/reference/generated/networkx.generators.random_graphs.gnm_random_graph.html, 2020, accessed: 2020-10.\n",
    "\n",
    "[9] Wikipedia, \"Clustering coefficient,\" https://en.wikipedia.org/wiki/Clustering_coefficient, 2020, accessed: 2020-10."
   ]
  }
 ],
 "metadata": {
  "kernelspec": {
   "display_name": "Python 3",
   "language": "python",
   "name": "python3"
  },
  "language_info": {
   "codemirror_mode": {
    "name": "ipython",
    "version": 3
   },
   "file_extension": ".py",
   "mimetype": "text/x-python",
   "name": "python",
   "nbconvert_exporter": "python",
   "pygments_lexer": "ipython3",
   "version": "3.7.6"
  }
 },
 "nbformat": 4,
 "nbformat_minor": 2
}
