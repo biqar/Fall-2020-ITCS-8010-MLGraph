{
 "cells": [
  {
   "cell_type": "markdown",
   "metadata": {},
   "source": [
    "$\\newcommand{\\xv}{\\mathbf{x}}\n",
    " \\newcommand{\\wv}{\\mathbf{w}}\n",
    " \\newcommand{\\Chi}{\\mathcal{X}}\n",
    " \\newcommand{\\R}{\\rm I\\!R}\n",
    " \\newcommand{\\sign}{\\text{sign}}\n",
    " \\newcommand{\\Tm}{\\mathbf{T}}\n",
    " \\newcommand{\\Xm}{\\mathbf{X}}\n",
    " \\newcommand{\\Im}{\\mathbf{I}}\n",
    "  \\newcommand{\\Ym}{\\mathbf{Y}}\n",
    "$\n",
    "### ITCS 8010: Machine Learning with Graphs and Large Networks (Fall 2020)\n",
    "\n",
    "# Problem Set X\n",
    "\n",
    "The purpose of these exercises is getting used to with the RMAT graph using the network analysis tool (i.e. `NetworkX` software). I generate the RMAT graph using PaRMAT [[3]](https://github.com/biqar/PaRMAT).\n",
    "\n",
    "Here is the software packages I used in this assignment:\n",
    "* Python 3.7.6\n",
    "* NetworkX 2.5\n",
    "* Numpy\n",
    "* todo ..."
   ]
  },
  {
   "cell_type": "markdown",
   "metadata": {},
   "source": [
    "## 1. Analyzing the RMAT Graph\n",
    "\n",
    "todo: description of RMAT graph\n",
    "\n",
    "* Directed graph (each unordered pair of nodes is saved once): XXXX.txt \n",
    "* Nodes: 1M; Edges: 16M\n",
    "* Flags:\n",
    "    * -nVertices 1000000\n",
    "    * -nEdges 16000000\n",
    "    * -sorted\n",
    "    * -noDuplicateEdges\n",
    "    * -noEdgeToSelf\n",
    "    * -undirected\n",
    "    * -threads 32"
   ]
  },
  {
   "cell_type": "code",
   "execution_count": 1,
   "metadata": {},
   "outputs": [],
   "source": [
    "import networkx as nx\n",
    "import numpy as np\n",
    "import matplotlib.pyplot as plt\n",
    "import collections as collec\n",
    "%matplotlib inline"
   ]
  },
  {
   "cell_type": "markdown",
   "metadata": {},
   "source": [
    "Reading `RMAT` graph."
   ]
  },
  {
   "cell_type": "code",
   "execution_count": 2,
   "metadata": {},
   "outputs": [],
   "source": [
    "G_rmat = nx.read_edgelist(\"data/rmat_100K_1600K_def.txt\", nodetype=int, comments='#', create_using=nx.DiGraph)"
   ]
  },
  {
   "cell_type": "markdown",
   "metadata": {},
   "source": [
    "1. The number of nodes in the network"
   ]
  },
  {
   "cell_type": "code",
   "execution_count": 3,
   "metadata": {},
   "outputs": [
    {
     "data": {
      "text/plain": [
       "94572"
      ]
     },
     "execution_count": 3,
     "metadata": {},
     "output_type": "execute_result"
    }
   ],
   "source": [
    "nx.number_of_nodes(G_rmat)"
   ]
  },
  {
   "cell_type": "markdown",
   "metadata": {},
   "source": [
    "2. The number of nodes with a self-edge (self-loop), i.e., the number of nodes a ∈ V where (a, a) ∈ E."
   ]
  },
  {
   "cell_type": "code",
   "execution_count": 4,
   "metadata": {},
   "outputs": [
    {
     "data": {
      "text/plain": [
       "0"
      ]
     },
     "execution_count": 4,
     "metadata": {},
     "output_type": "execute_result"
    }
   ],
   "source": [
    "len(list(nx.nodes_with_selfloops(G_rmat)))"
   ]
  },
  {
   "cell_type": "markdown",
   "metadata": {},
   "source": [
    "3. The number of directed edges in the network, i.e., the number of ordered pairs (a,b) ∈ E for which a!=b."
   ]
  },
  {
   "cell_type": "code",
   "execution_count": 5,
   "metadata": {},
   "outputs": [
    {
     "name": "stdout",
     "output_type": "stream",
     "text": [
      "1599999\n"
     ]
    }
   ],
   "source": [
    "num_edges = nx.number_of_edges(G_rmat)\n",
    "self_loops = len(list(nx.nodes_with_selfloops(G_rmat)))\n",
    "num_dir_edges = num_edges - self_loops\n",
    "print(num_dir_edges)"
   ]
  },
  {
   "cell_type": "markdown",
   "metadata": {},
   "source": [
    "4. The number of undirected edges in the network, i.e., the number of unique unordered pairs (a,b), a!=b, for which (a,b) ∈ E or (b, a) ∈ E (or both). If both (a, b) and (b, a) are edges, this counts a single undirected edge."
   ]
  },
  {
   "cell_type": "code",
   "execution_count": 6,
   "metadata": {},
   "outputs": [
    {
     "data": {
      "text/plain": [
       "0"
      ]
     },
     "execution_count": 6,
     "metadata": {},
     "output_type": "execute_result"
    }
   ],
   "source": [
    "nx.number_of_edges(G_rmat.to_undirected(True))\n",
    "#G_rmat.to_undirected(True).size()"
   ]
  },
  {
   "cell_type": "markdown",
   "metadata": {},
   "source": [
    "5. The number of reciprocated edges in the network, i.e., the number of unique unordered pairs of nodes (a,b), a!=b, for which (a,b) ∈ E and (b,a) ∈ E."
   ]
  },
  {
   "cell_type": "code",
   "execution_count": 9,
   "metadata": {},
   "outputs": [],
   "source": [
    "nx.reciprocity(G_rmat)\n",
    "#nx.overall_reciprocity(G_rmat)"
   ]
  },
  {
   "cell_type": "code",
   "execution_count": 63,
   "metadata": {},
   "outputs": [
    {
     "name": "stdout",
     "output_type": "stream",
     "text": [
      "100762\n"
     ]
    }
   ],
   "source": [
    "num_edges = nx.number_of_edges(G_rmat)\n",
    "num_edges_undir = nx.number_of_edges(G_rmat.to_undirected(True))\n",
    "\n",
    "num_edges_recip = num_edges - num_edges_undir\n",
    "print(num_edges_recip)"
   ]
  },
  {
   "cell_type": "markdown",
   "metadata": {
    "scrolled": true
   },
   "source": [
    "## 2. Further Analyzing the RMAT Graph\n",
    "\n",
    "1. Plot the distribution of out-degrees of nodes in the network on a log-log scale."
   ]
  },
  {
   "cell_type": "code",
   "execution_count": 7,
   "metadata": {},
   "outputs": [
    {
     "data": {
      "text/plain": [
       "Text(0, 0.5, 'Frequency')"
      ]
     },
     "execution_count": 7,
     "metadata": {},
     "output_type": "execute_result"
    },
    {
     "data": {
      "image/png": "[encoded data removed]",
      "text/plain": [
       "<Figure size 864x576 with 1 Axes>"
      ]
     },
     "metadata": {
      "needs_background": "light"
     },
     "output_type": "display_data"
    }
   ],
   "source": [
    "G_rmat_undir = G_rmat.to_undirected()\n",
    "out_degree_freq = sorted([d for n, d in G_rmat_undir.degree()], reverse=True)\n",
    "degrees = range(len(out_degree_freq))\n",
    "plt.figure(figsize=(12, 8))\n",
    "plt.loglog(range(len(out_degree_freq)), out_degree_freq, 'bo-', label='out-degree')\n",
    "plt.xlabel('Degree')\n",
    "plt.ylabel('Frequency')"
   ]
  },
  {
   "cell_type": "code",
   "execution_count": 8,
   "metadata": {},
   "outputs": [
    {
     "data": {
      "image/png": "[encoded data removed]",
      "text/plain": [
       "<Figure size 864x576 with 1 Axes>"
      ]
     },
     "metadata": {
      "needs_background": "light"
     },
     "output_type": "display_data"
    }
   ],
   "source": [
    "# Calculate in degrees of a directed graph\n",
    "# in_degrees = G_rmat.in_degree() # dictionary node:degree\n",
    "# in_values = sorted([d for n, d in in_degrees])\n",
    "# in_hist = [in_values.count(x) for x in in_values]\n",
    "\n",
    "# Calculate out degrees of a directed graph\n",
    "out_degrees = G_rmat.out_degree() # dictionary node:degree\n",
    "out_values = sorted([d for n, d in out_degrees])\n",
    "out_hist = [out_values.count(x) for x in out_values]\n",
    "\n",
    "# regular ploting the degree distribution\n",
    "# plt.figure(figsize=(12, 8))\n",
    "# plt.grid(True)\n",
    "# plt.plot(in_values, in_hist, 'ro-') # in-degree\n",
    "# plt.plot(out_values, out_hist, 'bv-') # out-degree\n",
    "# plt.legend(['In-degree', 'Out-degree'])\n",
    "# plt.xlabel('Degree')\n",
    "# plt.ylabel('Number of nodes')\n",
    "# plt.title('Degree distribution of RMAT graph')\n",
    "# plt.show()\n",
    "\n",
    "# log-log ploting the degree distribution\n",
    "# plt.figure(figsize=(12, 8))\n",
    "# plt.grid(True)\n",
    "# plt.loglog(in_values, in_hist, 'ro-') # in-degree\n",
    "# plt.loglog(out_values, out_hist, 'bv-') # out-degree\n",
    "# plt.legend(['In-degree', 'Out-degree'])\n",
    "# plt.xlabel('Degree')\n",
    "# plt.ylabel('Number of nodes')\n",
    "# plt.title('Degree distribution (Log-Log) of RMAT graph')\n",
    "# plt.show()\n",
    "\n",
    "# log-log ploting the out-degree distribution\n",
    "plt.figure(figsize=(12, 8))\n",
    "plt.grid(True)\n",
    "plt.loglog(out_values, out_hist, 'bv-') # out-degree\n",
    "plt.xlabel('Out Degree')\n",
    "plt.ylabel('Number of nodes')\n",
    "plt.title('Out-degree distribution (Log-Log) of RMAT graph')\n",
    "plt.show()"
   ]
  },
  {
   "cell_type": "markdown",
   "metadata": {},
   "source": [
    "# References\n",
    "\n",
    "\n",
    "[1] Erdős, Paul, and Alfréd Rényi. 1960. “On the Evolution of Random Graphs.” Bull. Inst. Internat. Statis. 38 (4): 343–47.\n",
    "\n",
    "[2] NetworkX, “Software for Complex Networks,” https://networkx.github.io/documentation/stable/, 2020, accessed: 2020-10.\n",
    "\n",
    "[3] PaRMAT, “Multi-threaded Large-Scale RMAT Graph Generator,” https://github.com/biqar/PaRMAT, 2020, accessed: 2020-10."
   ]
  }
 ],
 "metadata": {
  "kernelspec": {
   "display_name": "Python 3",
   "language": "python",
   "name": "python3"
  },
  "language_info": {
   "codemirror_mode": {
    "name": "ipython",
    "version": 3
   },
   "file_extension": ".py",
   "mimetype": "text/x-python",
   "name": "python",
   "nbconvert_exporter": "python",
   "pygments_lexer": "ipython3",
   "version": "3.7.6"
  }
 },
 "nbformat": 4,
 "nbformat_minor": 2
}
